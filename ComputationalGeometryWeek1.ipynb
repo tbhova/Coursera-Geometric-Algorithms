{
 "cells": [
  {
   "cell_type": "markdown",
   "metadata": {},
   "source": [
    "# Week1\n",
    "\n",
    "## Excercise 1.1"
   ]
  },
  {
   "cell_type": "code",
   "execution_count": 58,
   "metadata": {},
   "outputs": [],
   "source": [
    "from __future__ import absolute_import\n",
    "from __future__ import division\n",
    "from __future__ import print_function\n",
    "from enum import Enum\n",
    "\n",
    "class Turn(Enum):\n",
    "    LEFT = 1\n",
    "    RIGHT = 2\n",
    "    ON_SEGMENT = 3\n",
    "    ON_LINE = 4  # Colinear with the segment but not on the segment\n",
    "    \n",
    "class Point:\n",
    "    x = 0\n",
    "    y = 0\n",
    "    \n",
    "    def ToString(self):\n",
    "        return str(self.x) + \", \" + str(self.y)\n",
    "    \n",
    "class Line:\n",
    "    p1 = Point()\n",
    "    p2 = Point()\n",
    "    \n",
    "    def ToString(self):\n",
    "        return \"(\" + self.p1.ToString() + \"), (\" + self.p2.ToString() + \")\"\n",
    "        \n",
    "    def __repr__(self):\n",
    "        return self.ToString()\n",
    "    def __str__(self):\n",
    "        return self.ToString()"
   ]
  },
  {
   "cell_type": "code",
   "execution_count": 63,
   "metadata": {},
   "outputs": [
    {
     "name": "stdout",
     "output_type": "stream",
     "text": [
      "Turn.ON_SEGMENT\n"
     ]
    }
   ],
   "source": [
    "import numpy as np\n",
    "\n",
    "def between(e1, e2, test):\n",
    "    return min(e1, e2) < test and test < max(e1, e2)\n",
    "\n",
    "def FindTurn(line : Line, point : Point):\n",
    "    m = np.array([[line.p1.x, line.p1.y, 1], [line.p2.x, line.p2.y, 1], [point.x, point.y, 1]])\n",
    "    det = np.linalg.det(m)\n",
    "    if det == 0:\n",
    "        if between(line.p1.x, line.p2.x, point.x) and between(line.p1.y, line.p2.y, point.y):\n",
    "            return Turn.ON_SEGMENT\n",
    "        return Turn.ON_LINE\n",
    "    elif det > 0:\n",
    "        return Turn.LEFT\n",
    "    return Turn.RIGHT\n",
    "\n",
    "l = Line()\n",
    "p = Point()\n",
    "print(FindTurn(l, p))"
   ]
  },
  {
   "cell_type": "code",
   "execution_count": 64,
   "metadata": {},
   "outputs": [
    {
     "name": "stderr",
     "output_type": "stream",
     "text": [
      "test_find_turn_example_1 (__main__.TestNotebook) ... ok\n",
      "\n",
      "----------------------------------------------------------------------\n",
      "Ran 1 test in 0.001s\n",
      "\n",
      "OK\n"
     ]
    },
    {
     "data": {
      "text/plain": [
       "<unittest.main.TestProgram at 0x16e56424f88>"
      ]
     },
     "execution_count": 64,
     "metadata": {},
     "output_type": "execute_result"
    }
   ],
   "source": [
    "import unittest\n",
    "\n",
    "class TestNotebook(unittest.TestCase):\n",
    "\n",
    "    def test_find_turn_example_1(self):\n",
    "        l = Line()\n",
    "        l.p1.x = -4\n",
    "        l.p1.y = 4\n",
    "        l.p2.x = 2\n",
    "        l.p2.y = -2\n",
    "        \n",
    "        p = Point()\n",
    "        \n",
    "        p.x = 0\n",
    "        p.y = 0\n",
    "        self.assertEqual(FindTurn(l, p), Turn.ON_SEGMENT)\n",
    "        \n",
    "        p.x = 5\n",
    "        p.y = -5\n",
    "        self.assertEqual(FindTurn(l, p), Turn.ON_LINE)\n",
    "        \n",
    "        p.x = 1\n",
    "        p.y = 1\n",
    "        self.assertEqual(FindTurn(l, p), Turn.LEFT)\n",
    "        \n",
    "        p.x = -1\n",
    "        p.y = -1\n",
    "        self.assertEqual(FindTurn(l, p), Turn.RIGHT)\n",
    "\n",
    "\n",
    "unittest.main(argv=[''], verbosity=2, exit=False)"
   ]
  }
 ],
 "metadata": {
  "kernelspec": {
   "display_name": "Python 3",
   "language": "python",
   "name": "python3"
  },
  "language_info": {
   "codemirror_mode": {
    "name": "ipython",
    "version": 3
   },
   "file_extension": ".py",
   "mimetype": "text/x-python",
   "name": "python",
   "nbconvert_exporter": "python",
   "pygments_lexer": "ipython3",
   "version": "3.7.4"
  }
 },
 "nbformat": 4,
 "nbformat_minor": 4
}
