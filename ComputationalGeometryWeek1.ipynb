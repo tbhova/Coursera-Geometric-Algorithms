{
  "nbformat": 4,
  "nbformat_minor": 0,
  "metadata": {
    "kernelspec": {
      "display_name": "Python 3",
      "language": "python",
      "name": "python3"
    },
    "language_info": {
      "codemirror_mode": {
        "name": "ipython",
        "version": 3
      },
      "file_extension": ".py",
      "mimetype": "text/x-python",
      "name": "python",
      "nbconvert_exporter": "python",
      "pygments_lexer": "ipython3",
      "version": "3.7.4"
    },
    "colab": {
      "name": "Copy of ComputationalGeometryWeek1.ipynb",
      "provenance": [],
      "collapsed_sections": [],
      "include_colab_link": true
    }
  },
  "cells": [
    {
      "cell_type": "markdown",
      "metadata": {
        "id": "view-in-github",
        "colab_type": "text"
      },
      "source": [
        "<a href=\"https://colab.research.google.com/github/tbhova/Coursera-Geometric-Algorithms/blob/master/ComputationalGeometryWeek1.ipynb\" target=\"_parent\"><img src=\"https://colab.research.google.com/assets/colab-badge.svg\" alt=\"Open In Colab\"/></a>"
      ]
    },
    {
      "cell_type": "markdown",
      "metadata": {
        "id": "Yft50jF_CiC7",
        "colab_type": "text"
      },
      "source": [
        "# Week1\n",
        "\n",
        "## Excercise 1.1"
      ]
    },
    {
      "cell_type": "code",
      "metadata": {
        "id": "VcldWQTgCiC8",
        "colab_type": "code",
        "colab": {}
      },
      "source": [
        "from __future__ import absolute_import\n",
        "from __future__ import division\n",
        "from __future__ import print_function\n",
        "from typing import List\n",
        "from typing import Tuple\n",
        "from enum import Enum\n",
        "import unittest\n",
        "import numpy as np\n",
        "import math\n",
        "\n",
        "class Turn(Enum):\n",
        "  LEFT = 1\n",
        "  RIGHT = 2\n",
        "  ON_SEGMENT = 3\n",
        "  ON_LINE = 4  # Colinear with the segment but not on the segment\n",
        "\n",
        "class Intersection(Enum):\n",
        "  INTERSECTS = 1\n",
        "  NO_INTERSECTS = 2\n",
        "  ON_BORDER = 3\n",
        "\n",
        "class PolygonContainment(Enum):\n",
        "  INSIDE = 1\n",
        "  OUTSIDE = 2\n",
        "  ON_BORDER = 3\n",
        "    \n",
        "class Point:\n",
        "  def __init__(self, x = 0, y = 0):\n",
        "    self.x = x\n",
        "    self.y = y\n",
        "\n",
        "  x = 0\n",
        "  y = 0\n",
        "    \n",
        "  def ToString(self):\n",
        "      return str(self.x) + \", \" + str(self.y)\n",
        "  def __repr__(self):\n",
        "      return self.ToString()\n",
        "  def __str__(self):\n",
        "      return self.ToString()\n",
        "  def __eq__(self, other):\n",
        "    return self.ToString() == other.ToString()\n",
        "  def __hash__(self):\n",
        "    return hash(self.ToString())\n",
        "    \n",
        "class Line:\n",
        "  def __init__(self, p1 = Point(), p2 = Point()):\n",
        "    self.p1 = p1\n",
        "    self.p2 = p2\n",
        "    \n",
        "  p1 = Point()\n",
        "  p2 = Point()\n",
        "    \n",
        "  def ToString(self):\n",
        "    return \"(\" + self.p1.ToString() + \"), (\" + self.p2.ToString() + \")\"       \n",
        "  def __repr__(self):\n",
        "    return self.ToString()\n",
        "  def __str__(self):\n",
        "    return self.ToString()\n",
        "\n",
        "class Triangle:\n",
        "  def __init__(self, a = Point(), b = Point(), c = Point()):\n",
        "    self.a = a\n",
        "    self.b = b\n",
        "    self.c = c\n",
        "    \n",
        "  a = Point()\n",
        "  b = Point()\n",
        "  c = Point()\n",
        "    \n",
        "  def ToString(self):\n",
        "    return \"(\" + self.a.ToString() + \"), (\" + self.b.ToString() + \"), (\" + self.c.ToString() + \")\"       \n",
        "  def __repr__(self):\n",
        "    return self.ToString()\n",
        "  def __str__(self):\n",
        "    return self.ToString()\n",
        "    \n",
        "class Polygon:\n",
        "  def __init__(self, vertices = List[Point]):\n",
        "    self.vertices = vertices\n",
        "    \n",
        "  # Counterclockwise vertices of the polygon\n",
        "  vertices = List[Point]\n",
        "    \n",
        "  def ToString(self):\n",
        "    out = \"\"\n",
        "    for p in vertices:\n",
        "      out += \"(\" + p.ToString() + \"), \"\n",
        "    return out\n",
        "    \n",
        "  def __repr__(self):\n",
        "    return self.ToString()\n",
        "  def __str__(self):\n",
        "    return self.ToString()\n"
      ],
      "execution_count": 0,
      "outputs": []
    },
    {
      "cell_type": "code",
      "metadata": {
        "id": "0Zq7-4qeCiDA",
        "colab_type": "code",
        "colab": {}
      },
      "source": [
        "def between(e1, e2, test):\n",
        "    return min(e1, e2) <= test and test <= max(e1, e2)\n",
        "\n",
        "def FindTurn(line : Line, point : Point) -> Turn:\n",
        "    m = np.array([[line.p1.x, line.p1.y, 1], [line.p2.x, line.p2.y, 1], [point.x, point.y, 1]])\n",
        "    det = np.linalg.det(m)\n",
        "    if abs(det - 0) < 1e-10:\n",
        "        if between(line.p1.x, line.p2.x, point.x) and between(line.p1.y, line.p2.y, point.y):\n",
        "            return Turn.ON_SEGMENT\n",
        "        return Turn.ON_LINE\n",
        "    elif det > 0:\n",
        "        return Turn.LEFT\n",
        "    return Turn.RIGHT"
      ],
      "execution_count": 0,
      "outputs": []
    },
    {
      "cell_type": "code",
      "metadata": {
        "id": "TncGJqGPCiDC",
        "colab_type": "code",
        "outputId": "7539a368-28c0-4f07-deb6-f37fe2fd5983",
        "colab": {
          "base_uri": "https://localhost:8080/",
          "height": 170
        }
      },
      "source": [
        "class TestNotebook(unittest.TestCase):\n",
        "\n",
        "  def test_find_turn_example_1(self):\n",
        "    l = Line(Point(-4, 4), Point(2, -2))\n",
        "    p = Point(0, 0)\n",
        "    self.assertEqual(FindTurn(l, p), Turn.ON_SEGMENT)\n",
        "    \n",
        "    p = Point(5, -5)\n",
        "    self.assertEqual(FindTurn(l, p), Turn.ON_LINE)\n",
        "    \n",
        "    p = Point(1, 1)\n",
        "    self.assertEqual(FindTurn(l, p), Turn.LEFT)\n",
        "    \n",
        "    p = Point(-1, -1)\n",
        "    self.assertEqual(FindTurn(l, p), Turn.RIGHT)\n",
        "    \n",
        "  def test_find_turn_example_2(self):\n",
        "    l = Line(Point(-4, 0), Point(2, -10))\n",
        "    \n",
        "    p = Point(-8, 4)\n",
        "    self.assertEqual(FindTurn(l, p), Turn.RIGHT)\n",
        "    \n",
        "    p = Point(2, -7)\n",
        "    self.assertEqual(FindTurn(l, p), Turn.LEFT)\n",
        "    \n",
        "    p = Point(9, 3)\n",
        "    self.assertEqual(FindTurn(l, p), Turn.LEFT)\n",
        "    \n",
        "    p = Point(-4, 6)\n",
        "    self.assertEqual(FindTurn(l, p), Turn.LEFT)\n",
        "    \n",
        "    p = Point(-8, -5)\n",
        "    self.assertEqual(FindTurn(l, p), Turn.RIGHT)\n",
        "    \n",
        "    p = Point(7, 1)\n",
        "    self.assertEqual(FindTurn(l, p), Turn.LEFT)\n",
        "    \n",
        "    p = Point(2, 4)\n",
        "    self.assertEqual(FindTurn(l, p), Turn.LEFT)\n",
        "    \n",
        "    p = Point(-3, -9)\n",
        "    self.assertEqual(FindTurn(l, p), Turn.RIGHT)\n",
        "        \n",
        "  def test_find_turn_additional(self):\n",
        "    # Vertical line\n",
        "    l = Line(Point(0,0), Point(0,6))\n",
        "    p = Point(0,3)\n",
        "    self.assertEqual(FindTurn(l, p), Turn.ON_SEGMENT)\n",
        "    \n",
        "    p = Point(3,3)\n",
        "    self.assertEqual(FindTurn(l, p), Turn.RIGHT)\n",
        "    \n",
        "    p = Point(-1,3)\n",
        "    self.assertEqual(FindTurn(l, p), Turn.LEFT)\n",
        "    \n",
        "    l = Line(Point(0,6), Point(0,0))\n",
        "    p = Point(3,3)\n",
        "    self.assertEqual(FindTurn(l, p), Turn.LEFT)\n",
        "    \n",
        "    \n",
        "    l = Line(Point(-3, -1), Point(-3, 4))\n",
        "    p = Point(0, 0)\n",
        "    self.assertEqual(FindTurn(l, p), Turn.RIGHT)\n",
        "\n",
        "unittest.main(argv=[''], verbosity=2, exit=False)"
      ],
      "execution_count": 33,
      "outputs": [
        {
          "output_type": "stream",
          "text": [
            "test_find_turn_additional (__main__.TestNotebook) ... ok\n",
            "test_find_turn_example_1 (__main__.TestNotebook) ... ok\n",
            "test_find_turn_example_2 (__main__.TestNotebook) ... ok\n",
            "\n",
            "----------------------------------------------------------------------\n",
            "Ran 3 tests in 0.005s\n",
            "\n",
            "OK\n"
          ],
          "name": "stderr"
        },
        {
          "output_type": "execute_result",
          "data": {
            "text/plain": [
              "<unittest.main.TestProgram at 0x7f95ada344a8>"
            ]
          },
          "metadata": {
            "tags": []
          },
          "execution_count": 33
        }
      ]
    },
    {
      "cell_type": "markdown",
      "metadata": {
        "id": "SV0lHOqPCiDH",
        "colab_type": "text"
      },
      "source": [
        "## Excercise 1.2"
      ]
    },
    {
      "cell_type": "code",
      "metadata": {
        "id": "68krBAToCiDH",
        "colab_type": "code",
        "colab": {}
      },
      "source": [
        "def TriangleViaTurn(t : Triangle, p : Point) -> PolygonContainment:\n",
        "  turns = []\n",
        "  # Following the triangle in 1 direction should result in all left or all right turns\n",
        "  # (depending on the triange) if the point is inside.\n",
        "  turns.append(FindTurn(Line(t.a, t.b), p))\n",
        "  turns.append(FindTurn(Line(t.b, t.c), p))\n",
        "  turns.append(FindTurn(Line(t.c, t.a), p))\n",
        "  if Turn.ON_SEGMENT in turns:\n",
        "      return PolygonContainment.ON_BORDER\n",
        "  if all(elem == Turn.LEFT for elem in turns) or all(elem == Turn.RIGHT for elem in turns):\n",
        "      return PolygonContainment.INSIDE\n",
        "  return PolygonContainment.OUTSIDE\n",
        "\n",
        "# https://www.youtube.com/watch?v=HYAgJN3x4GA\n",
        "def TriangleViaVectors(t : Triangle, p : Point) -> PolygonContainment:\n",
        "  w1 = (t.a.x * (t.c.y - t.a.y) + (p.y - t.a.y) * (t.c.x-t.a.x) - p.x * (t.c.y - t.a.y)) / (\n",
        "      (t.b.y-t.a.y) * (t.c.x - t.a.x) - (t.b.x-t.a.x) * (t.c.y - t.a.y))\n",
        "  w2 = (p.y - t.a.y - w1 * (t.b.y - t.a.y)) / (t.c.y-t.a.y)\n",
        "    \n",
        "  if (abs(w1 - 0) < 1e-10 or abs(w2 - 0) < 1e-10) and w1 <= 1 and w2 <= 1:\n",
        "      return PolygonContainment.ON_BORDER\n",
        "  # On side opposite A\n",
        "  if w1 > 0 and w2 > 0 and abs(w1 + w2 - 1) < 1e-10:\n",
        "      return PolygonContainment.ON_BORDER\n",
        "  if w1 > 0 and w2 > 0 and w1 + w2 < 1:\n",
        "      return PolygonContainment.INSIDE\n",
        "  return PolygonContainment.OUTSIDE\n",
        "\n",
        "def InsideTriangle(triangle : Triangle, point : Point) -> PolygonContainment:\n",
        "#   return TriangleViaTurn(triangle, point)\n",
        "  return TriangleViaVectors(triangle, point)"
      ],
      "execution_count": 0,
      "outputs": []
    },
    {
      "cell_type": "code",
      "metadata": {
        "id": "NFYMtWVSCiDK",
        "colab_type": "code",
        "outputId": "972b792e-1c9a-4280-d030-1f8e09392ddf",
        "colab": {
          "base_uri": "https://localhost:8080/",
          "height": 153
        }
      },
      "source": [
        "class TestNotebook(unittest.TestCase):\n",
        "\n",
        "  def test_inside_triangle_1(self):\n",
        "    t = Triangle(Point(0, 0), Point(5, 5), Point(0, 6))\n",
        "    t2 = Triangle(Point(0, 0), Point(0, 6), Point(5, 5)) # Reverse area direction\n",
        "    \n",
        "    p = Point(3, 3)\n",
        "    self.assertEqual(InsideTriangle(t, p), PolygonContainment.ON_BORDER)\n",
        "    self.assertEqual(InsideTriangle(t2, p), PolygonContainment.ON_BORDER)\n",
        "    \n",
        "    p = Point(6, 6)\n",
        "    self.assertEqual(InsideTriangle(t, p), PolygonContainment.OUTSIDE)\n",
        "    self.assertEqual(InsideTriangle(t2, p), PolygonContainment.OUTSIDE)\n",
        "    \n",
        "    p = Point(2, 3)\n",
        "    self.assertEqual(InsideTriangle(t, p), PolygonContainment.INSIDE)\n",
        "    self.assertEqual(InsideTriangle(t2, p), PolygonContainment.INSIDE)\n",
        "    \n",
        "  def test_inside_triangle_2(self):\n",
        "    t = Triangle(Point(1, 0), Point(0, 3), Point(3, 3))\n",
        "    t2 = Triangle(Point(1, 0), Point(3, 3), Point(0, 3)) # Reverse area direction\n",
        "    \n",
        "    p = Point(0, 0)\n",
        "    self.assertEqual(InsideTriangle(t, p), PolygonContainment.OUTSIDE)\n",
        "    self.assertEqual(InsideTriangle(t2, p), PolygonContainment.OUTSIDE)\n",
        "    \n",
        "    p = Point(0, 1)\n",
        "    self.assertEqual(InsideTriangle(t, p), PolygonContainment.OUTSIDE)\n",
        "    self.assertEqual(InsideTriangle(t2, p), PolygonContainment.OUTSIDE)\n",
        "    \n",
        "    p = Point(0, 2)\n",
        "    self.assertEqual(InsideTriangle(t, p), PolygonContainment.OUTSIDE)\n",
        "    self.assertEqual(InsideTriangle(t2, p), PolygonContainment.OUTSIDE)\n",
        "    \n",
        "    p = Point(0, 3)\n",
        "    self.assertEqual(InsideTriangle(t, p), PolygonContainment.ON_BORDER)\n",
        "    self.assertEqual(InsideTriangle(t2, p), PolygonContainment.ON_BORDER)\n",
        "    \n",
        "    p = Point(1, 0)\n",
        "    self.assertEqual(InsideTriangle(t, p), PolygonContainment.ON_BORDER)\n",
        "    self.assertEqual(InsideTriangle(t2, p), PolygonContainment.ON_BORDER)\n",
        "    \n",
        "    p = Point(1, 1)\n",
        "    self.assertEqual(InsideTriangle(t, p), PolygonContainment.INSIDE)\n",
        "    self.assertEqual(InsideTriangle(t2, p), PolygonContainment.INSIDE)\n",
        "    \n",
        "    p = Point(1, 2)\n",
        "    self.assertEqual(InsideTriangle(t, p), PolygonContainment.INSIDE)\n",
        "    self.assertEqual(InsideTriangle(t2, p), PolygonContainment.INSIDE)\n",
        "    \n",
        "    p = Point(1, 3)\n",
        "    self.assertEqual(InsideTriangle(t, p), PolygonContainment.ON_BORDER)\n",
        "    self.assertEqual(InsideTriangle(t2, p), PolygonContainment.ON_BORDER)\n",
        "    \n",
        "    p = Point(2, 0)\n",
        "    self.assertEqual(InsideTriangle(t, p), PolygonContainment.OUTSIDE)\n",
        "    self.assertEqual(InsideTriangle(t2, p), PolygonContainment.OUTSIDE)\n",
        "    \n",
        "    p = Point(2, 1)\n",
        "    self.assertEqual(InsideTriangle(t, p), PolygonContainment.OUTSIDE)\n",
        "    self.assertEqual(InsideTriangle(t2, p), PolygonContainment.OUTSIDE)\n",
        "    \n",
        "    p = Point(2, 2)\n",
        "    self.assertEqual(InsideTriangle(t, p), PolygonContainment.INSIDE)\n",
        "    self.assertEqual(InsideTriangle(t2, p), PolygonContainment.INSIDE)\n",
        "    \n",
        "    p = Point(2, 3)\n",
        "    self.assertEqual(InsideTriangle(t, p), PolygonContainment.ON_BORDER)\n",
        "    self.assertEqual(InsideTriangle(t2, p), PolygonContainment.ON_BORDER)\n",
        "\n",
        "unittest.main(argv=[''], verbosity=2, exit=False)"
      ],
      "execution_count": 35,
      "outputs": [
        {
          "output_type": "stream",
          "text": [
            "test_inside_triangle_1 (__main__.TestNotebook) ... ok\n",
            "test_inside_triangle_2 (__main__.TestNotebook) ... ok\n",
            "\n",
            "----------------------------------------------------------------------\n",
            "Ran 2 tests in 0.002s\n",
            "\n",
            "OK\n"
          ],
          "name": "stderr"
        },
        {
          "output_type": "execute_result",
          "data": {
            "text/plain": [
              "<unittest.main.TestProgram at 0x7f95ad9ef668>"
            ]
          },
          "metadata": {
            "tags": []
          },
          "execution_count": 35
        }
      ]
    },
    {
      "cell_type": "markdown",
      "metadata": {
        "id": "ITgRUnTcCiDM",
        "colab_type": "text"
      },
      "source": [
        "## Exercise 1.3 and 1.4"
      ]
    },
    {
      "cell_type": "code",
      "metadata": {
        "id": "7pd06ohNCiDN",
        "colab_type": "code",
        "colab": {}
      },
      "source": [
        "# Returns true if the ray eminating to the left (negative x) of p inserects the line segment l.\n",
        "def RayIntersects(l : Line, p : Point) -> Intersection:\n",
        "  # The ray insersects if the ray is between the segment's endpoints in y\n",
        "  if not between(l.p1.y, l.p2.y, p.y):\n",
        "      return False \n",
        "  # AND p is to the right of l\n",
        "  # We need p1 below p2 to test for right turns\n",
        "  l2 = l\n",
        "  if l.p1.y > l.p2.y:\n",
        "      l2 = Line(l.p2, l.p1)\n",
        "  turn = FindTurn(l2, p)\n",
        "  if turn == Turn.RIGHT:\n",
        "    return Intersection.INTERSECTS\n",
        "  elif turn == Turn.ON_SEGMENT:\n",
        "    return Intersection.ON_BORDER\n",
        "  return Intersection.NO_INTERSECTS\n",
        "    \n",
        "def InsidePolygon(poly : Polygon, q : Point) -> PolygonContainment :\n",
        "  intersections = 0\n",
        "  \n",
        "  for i in range(len(poly.vertices)):\n",
        "    l = Line(poly.vertices[i - 1], poly.vertices[i])\n",
        "    intersection = RayIntersects(l, q)\n",
        "    if intersection == Intersection.INTERSECTS:\n",
        "      intersections += 1\n",
        "    elif intersection == Intersection.ON_BORDER:\n",
        "      return PolygonContainment.ON_BORDER\n",
        "  \n",
        "  return PolygonContainment.INSIDE if (intersections % 2 == 1) else PolygonContainment.OUTSIDE"
      ],
      "execution_count": 0,
      "outputs": []
    },
    {
      "cell_type": "code",
      "metadata": {
        "id": "X9HHG0ETCiDP",
        "colab_type": "code",
        "outputId": "f608a82e-6548-4a27-b010-9a57cdd41b7d",
        "colab": {
          "base_uri": "https://localhost:8080/",
          "height": 153
        }
      },
      "source": [
        "class TestNotebook(unittest.TestCase):\n",
        "\n",
        "  def test_inside_polygon_1(self):\n",
        "    poly = Polygon([Point(-3, -1), Point(3, -1), Point(3, 5), Point(0, 2), Point(-3, 4)])\n",
        "\n",
        "    q = Point(1, 3)\n",
        "    self.assertEqual(InsidePolygon(poly, q), PolygonContainment.ON_BORDER)\n",
        "      \n",
        "    q = Point(-1, 3)\n",
        "    self.assertEqual(InsidePolygon(poly, q), PolygonContainment.OUTSIDE)\n",
        "      \n",
        "    q = Point(0, 0)\n",
        "    self.assertEqual(InsidePolygon(poly, q), PolygonContainment.INSIDE)\n",
        "      \n",
        "    q = Point(-2, 3)\n",
        "    self.assertEqual(InsidePolygon(poly, q), PolygonContainment.INSIDE)\n",
        "      \n",
        "  def test_exercise_1_4(self):\n",
        "    poly = Polygon([Point(-2, -3), Point(1, -4), Point(3, -2), Point(2, 1), Point(-2, 1)])\n",
        "      \n",
        "    q = Point(2, -3)\n",
        "    self.assertEqual(InsidePolygon(poly, q), PolygonContainment.ON_BORDER)\n",
        "      \n",
        "    q = Point(3, 0)\n",
        "    self.assertEqual(InsidePolygon(poly, q), PolygonContainment.OUTSIDE)\n",
        "      \n",
        "    q = Point(0, 0)\n",
        "    self.assertEqual(InsidePolygon(poly, q), PolygonContainment.INSIDE)\n",
        "      \n",
        "    q = Point(2, -1)\n",
        "    self.assertEqual(InsidePolygon(poly, q), PolygonContainment.INSIDE)\n",
        "        \n",
        "unittest.main(argv=[''], verbosity=2, exit=False)"
      ],
      "execution_count": 37,
      "outputs": [
        {
          "output_type": "stream",
          "text": [
            "test_exercise_1_4 (__main__.TestNotebook) ... ok\n",
            "test_inside_polygon_1 (__main__.TestNotebook) ... ok\n",
            "\n",
            "----------------------------------------------------------------------\n",
            "Ran 2 tests in 0.003s\n",
            "\n",
            "OK\n"
          ],
          "name": "stderr"
        },
        {
          "output_type": "execute_result",
          "data": {
            "text/plain": [
              "<unittest.main.TestProgram at 0x7f95ada15b70>"
            ]
          },
          "metadata": {
            "tags": []
          },
          "execution_count": 37
        }
      ]
    },
    {
      "cell_type": "markdown",
      "metadata": {
        "id": "WLQ-W5O5Fm_B",
        "colab_type": "text"
      },
      "source": [
        "# Week 2\n",
        "## 2.1 Convex polygon"
      ]
    },
    {
      "cell_type": "code",
      "metadata": {
        "id": "C5NA16qWGwHn",
        "colab_type": "code",
        "colab": {}
      },
      "source": [
        "def IsConvex(poly : Polygon):\n",
        "  if (len(poly.vertices) < 3):\n",
        "    return False\n",
        "  for i in range(len(poly.vertices)):\n",
        "    if (FindTurn(Line(poly.vertices[i-2], poly.vertices[i-1]), poly.vertices[i]) != Turn.LEFT):\n",
        "      return False\n",
        "  return True"
      ],
      "execution_count": 0,
      "outputs": []
    },
    {
      "cell_type": "code",
      "metadata": {
        "id": "6EmnWqM5GIrc",
        "colab_type": "code",
        "outputId": "b7f55afd-fd13-4943-efb8-56c918a39e45",
        "colab": {
          "base_uri": "https://localhost:8080/",
          "height": 136
        }
      },
      "source": [
        "class TestNotebook(unittest.TestCase):\n",
        "\n",
        "  def test_is_convex(self):\n",
        "    convex_poly = Polygon([Point(-2, -3), Point(1, -4), Point(3, -2), Point(2, 1), Point(-2, 1)])\n",
        "    self.assertEqual(IsConvex(convex_poly), True)\n",
        "\n",
        "    nonconvex_poly = Polygon([Point(-3, -1), Point(3, -1), Point(3, 5), Point(0, 2), Point(-3, 4)])     \n",
        "    self.assertEqual(IsConvex(nonconvex_poly), False)\n",
        "\n",
        "unittest.main(argv=[''], verbosity=2, exit=False)"
      ],
      "execution_count": 39,
      "outputs": [
        {
          "output_type": "stream",
          "text": [
            "test_is_convex (__main__.TestNotebook) ... ok\n",
            "\n",
            "----------------------------------------------------------------------\n",
            "Ran 1 test in 0.002s\n",
            "\n",
            "OK\n"
          ],
          "name": "stderr"
        },
        {
          "output_type": "execute_result",
          "data": {
            "text/plain": [
              "<unittest.main.TestProgram at 0x7f95adb3a198>"
            ]
          },
          "metadata": {
            "tags": []
          },
          "execution_count": 39
        }
      ]
    },
    {
      "cell_type": "markdown",
      "metadata": {
        "id": "KpndHG9tKxYR",
        "colab_type": "text"
      },
      "source": [
        "## Build Convex Hull"
      ]
    },
    {
      "cell_type": "code",
      "metadata": {
        "id": "Yrh6GoPDKz7O",
        "colab_type": "code",
        "colab": {}
      },
      "source": [
        "def Distance(line : Line, p : Point):\n",
        "  # https://en.wikipedia.org/wiki/Distance_from_a_point_to_a_line#Line_defined_by_two_points\n",
        "  numerator = abs((line.p2.y - line.p1.y)*p.x - (line.p2.x - line.p1.x)*p.y - + line.p2.x * line.p1.y - line.p2.y * line.p1.x)\n",
        "  denominator = sqrt(((line.p2.y - line.p1.y) ** 2) + ((line.p2.x - line.p1.x) ** 2))\n",
        "  return numerator/denominator\n",
        "\n",
        "#def CheckTriangle(tri, points: list[Point]) -> List[Point]:\n",
        "#  tri = Triangle(line.p1, line.p2)\n",
        "#\n",
        "#  has_max = False\n",
        "#  max_distance = 0\n",
        "#  max = Point(0,0)\n",
        "#  for p in points:\n",
        "#    if (InsideTriangle(tri, p)):\n",
        "#      has_max = True\n",
        "#      if (Distance(Line(tri))):\n",
        "\n",
        "def Angle(p1: Point, p2: Point):\n",
        "  return (np.rad2deg(np.arctan2(p2.y-p1.y, p2.x-p1.x)) + 360) % 360\n",
        "\n",
        "def BuildConvexHull(points : List[Point]) -> Polygon:\n",
        "  # Quick hull\n",
        "  if (len(points) < 3):\n",
        "    return Polygon(points);\n",
        "  leftmost = min(points, key = lambda p: p.x)\n",
        "  rightmost = max(points, key = lambda p: p.x)\n",
        "  topmost = max(points, key = lambda p: p.y)\n",
        "  bottommost = min(points, key = lambda p: p.y)\n",
        "\n",
        "  poly = []\n",
        "  poly.append(bottommost)\n",
        "\n",
        "  remaining_points = points\n",
        "  remaining_points.remove(bottommost)\n",
        "  angle = 0\n",
        "  last_point = bottommost\n",
        "  iter = 0\n",
        "\n",
        "  while (len(remaining_points) > 0):\n",
        "    #print(last_point.ToString())\n",
        "    next_point = min(remaining_points, key = lambda p: (Angle(last_point, p) - angle + 360) % 360)\n",
        "    if (next_point == bottommost):\n",
        "      break\n",
        "    angle = Angle(last_point, next_point)\n",
        "    #print(angle)\n",
        "    last_point = next_point\n",
        "    # Normalize to remove duplicate points forming a straight line.\n",
        "    if (len(poly) >= 2):\n",
        "      if (FindTurn(Line(poly[-2], poly[-1]), next_point) == Turn.ON_LINE):\n",
        "        poly.pop(-1)\n",
        "    poly.append(next_point)\n",
        "    remaining_points.remove(last_point)\n",
        "    if (iter == 0):\n",
        "      remaining_points.append(bottommost)\n",
        "    iter += 1\n",
        "\n",
        "  # See if last point forms a straight line.\n",
        "  if (FindTurn(Line(poly[-2], poly[-1]), poly[0]) == Turn.ON_LINE):\n",
        "    poly.pop(-1)\n",
        "\n",
        "\n",
        "  return Polygon(poly);"
      ],
      "execution_count": 0,
      "outputs": []
    },
    {
      "cell_type": "code",
      "metadata": {
        "id": "umalk6OWK7A9",
        "colab_type": "code",
        "outputId": "02d2fde3-b497-47e8-dfab-91f4c3d708ae",
        "colab": {
          "base_uri": "https://localhost:8080/",
          "height": 170
        }
      },
      "source": [
        "class TestNotebook(unittest.TestCase):\n",
        "\n",
        "  def test_build_convex_hull(self):\n",
        "    points = [Point(-10, 2), Point(-7, 2), Point(-4, 3), Point(-6, 5), Point(-8, 7), Point(-2, 8), Point(2, 3), Point(4, 5), Point(6, 1), Point(7, -5), Point(2, -7), Point(-4, -4), Point(-8, -6), Point(-7, -1), Point(2, 6)]\n",
        "    expected = Polygon([Point(-10, 2), Point(-8, -6), Point(2, -7), Point(7, -5), Point(6, 1), Point(4, 5), Point(-2, 8), Point(-8, 7)])\n",
        "    actual = BuildConvexHull(points)\n",
        "    self.assertEqual(len(actual.vertices), len(expected.vertices))\n",
        "    #for i in range(len(actual.vertices)):\n",
        "    # self.assertEqual(actual.vertices[i] == expected.vertices[i], True)\n",
        "    self.assertCountEqual(actual.vertices, expected.vertices)\n",
        "    \n",
        "  def test_build_convex_hull2(self):\n",
        "    points = [Point(-3, 11), Point(-7, 10), Point(-9, 7), Point(-10, 0), Point(-11, -12), Point(4, -6), Point(6, -5), Point(7, 4), Point(6, 7), Point(4, 9)]\n",
        "    expected = Polygon([Point(4, -6), Point(6, -5), Point(7, 4), Point(6, 7), Point(4, 9), Point(-3, 11), Point(-7, 10), Point(-9, 7), Point(-10, 0), Point(-11, -12)])\n",
        "    actual = BuildConvexHull(points)\n",
        "    self.assertEqual(len(actual.vertices), len(expected.vertices))\n",
        "    self.assertCountEqual(actual.vertices, expected.vertices)\n",
        "\n",
        "  def test_build_convex_hull3(self):\n",
        "    points = [Point(0, 0), Point(1, 0), Point(2, 0), Point(2, 1), Point(2, 2), Point(1, 2), Point(0, 2), Point(0, 1), Point(1, 1)]\n",
        "    expected = Polygon([Point(2, 0), Point(2, 2), Point(0, 2), Point(0, 0)])\n",
        "    actual = BuildConvexHull(points)\n",
        "    self.assertEqual(len(actual.vertices), len(expected.vertices))\n",
        "    self.assertCountEqual(actual.vertices, expected.vertices)\n",
        "\n",
        "unittest.main(argv=[''], verbosity=2, exit=False)"
      ],
      "execution_count": 41,
      "outputs": [
        {
          "output_type": "stream",
          "text": [
            "test_build_convex_hull (__main__.TestNotebook) ... ok\n",
            "test_build_convex_hull2 (__main__.TestNotebook) ... ok\n",
            "test_build_convex_hull3 (__main__.TestNotebook) ... ok\n",
            "\n",
            "----------------------------------------------------------------------\n",
            "Ran 3 tests in 0.007s\n",
            "\n",
            "OK\n"
          ],
          "name": "stderr"
        },
        {
          "output_type": "execute_result",
          "data": {
            "text/plain": [
              "<unittest.main.TestProgram at 0x7f95ad9ef6a0>"
            ]
          },
          "metadata": {
            "tags": []
          },
          "execution_count": 41
        }
      ]
    },
    {
      "cell_type": "markdown",
      "metadata": {
        "id": "_Urlm960r_9z",
        "colab_type": "text"
      },
      "source": [
        "## 2.3 Tangents to polygon"
      ]
    },
    {
      "cell_type": "code",
      "metadata": {
        "id": "oqb-Pq83r-rd",
        "colab_type": "code",
        "colab": {}
      },
      "source": [
        "# Returns polygon vertices forming a tangent line to the polygon\n",
        "def TangentsToPolygon(poly : Polygon, point : Point) -> Tuple[Point, Point] :\n",
        "  # Get the polar angles for each point\n",
        "  angles = []\n",
        "  for p in poly.vertices:\n",
        "    angles.append(tuple([p, Angle(point, p)]))\n",
        "  \n",
        "  List.sort(angles, key = lambda p: p[1])\n",
        "\n",
        "  # Observe that the angles will not cover an arc > 180, but there may be circle wraparound\n",
        "  if angles[-1][1] - angles[0][1] > 180:\n",
        "    for i in range(len(angles)):\n",
        "      if angles[i][1] > 180:\n",
        "        break;\n",
        "      angles[i] = tuple([angles[i][0], angles[i][1] + 360])\n",
        "    List.sort(angles, key = lambda p: p[1]);\n",
        "    # Failure indictates the point might be inside the polygon.\n",
        "    assert angles[-1][1] - angles[0][1] < 180;\n",
        "\n",
        "  return angles[-1][0], angles[0][0]"
      ],
      "execution_count": 0,
      "outputs": []
    },
    {
      "cell_type": "code",
      "metadata": {
        "id": "dKuxVSyYsEWy",
        "colab_type": "code",
        "colab": {
          "base_uri": "https://localhost:8080/",
          "height": 153
        },
        "outputId": "03c05048-9adc-4d78-870c-dc2e9f867a01"
      },
      "source": [
        "class TestNotebook(unittest.TestCase):\n",
        "\n",
        "  def test_tangent(self):\n",
        "    poly = Polygon([Point(23, 16), Point(-21, -12), Point(-7, -24), Point(18, -25)])\n",
        "\n",
        "    self.assertTupleEqual(TangentsToPolygon(poly, Point(-7, 12)), tuple([Point(23, 16), Point(-21, -12)]))\n",
        "\n",
        "    self.assertTupleEqual(TangentsToPolygon(poly, Point(24, 0)), tuple([Point(18, -25), Point(23, 16)]))\n",
        "\n",
        "    self.assertTupleEqual(TangentsToPolygon(poly, Point(-12, -5)), tuple([Point(23, 16), Point(-21, -12)]))\n",
        "\n",
        "    self.assertTupleEqual(TangentsToPolygon(poly, Point(-13, -25)), tuple([Point(-21,-12), Point(18, -25)]))\n",
        "\n",
        "    self.assertTupleEqual(TangentsToPolygon(poly, Point(-9, 16)), tuple([Point(23, 16), Point(-21, -12)]))\n",
        "\n",
        "  def test_tangent2(self):\n",
        "    poly = Polygon([Point(-19, 20), Point(-23, 17), Point(-22, -16), Point(-10, -18), Point(-4, -17), Point(2, -12), Point(12, 1), Point(13, 3), Point(8, 14), Point(2, 19)])\n",
        "\n",
        "    self.assertTupleEqual(TangentsToPolygon(poly, Point(-16, 20)), tuple([Point(2, 19), Point(-19, 20)]))\n",
        "\n",
        "    self.assertTupleEqual(TangentsToPolygon(poly, Point(17, 7)), tuple([Point(2, -12), Point(2, 19)]))\n",
        "\n",
        "    self.assertTupleEqual(TangentsToPolygon(poly, Point(-10, -23)), tuple([Point(-22, -16), Point(2, -12)]))\n",
        "\n",
        "    self.assertTupleEqual(TangentsToPolygon(poly, Point(-24, 8)), tuple([Point(-23, 17), Point(-22, -16)]))\n",
        "\n",
        "    self.assertTupleEqual(TangentsToPolygon(poly, Point(19, -18)), tuple([Point(-10, -18), Point(13, 3)]))\n",
        "\n",
        "unittest.main(argv=[''], verbosity=2, exit=False)"
      ],
      "execution_count": 66,
      "outputs": [
        {
          "output_type": "stream",
          "text": [
            "test_tangent (__main__.TestNotebook) ... ok\n",
            "test_tangent2 (__main__.TestNotebook) ... ok\n",
            "\n",
            "----------------------------------------------------------------------\n",
            "Ran 2 tests in 0.003s\n",
            "\n",
            "OK\n"
          ],
          "name": "stderr"
        },
        {
          "output_type": "execute_result",
          "data": {
            "text/plain": [
              "<unittest.main.TestProgram at 0x7f95ad950630>"
            ]
          },
          "metadata": {
            "tags": []
          },
          "execution_count": 66
        }
      ]
    },
    {
      "cell_type": "markdown",
      "metadata": {
        "id": "kB3M0k539Wn3",
        "colab_type": "text"
      },
      "source": [
        "## 2.4 Union of Convex Polygons"
      ]
    },
    {
      "cell_type": "code",
      "metadata": {
        "id": "Wxqr6Xcz9VCr",
        "colab_type": "code",
        "colab": {}
      },
      "source": [
        ""
      ],
      "execution_count": 0,
      "outputs": []
    },
    {
      "cell_type": "code",
      "metadata": {
        "id": "wFCDIOAQ9awt",
        "colab_type": "code",
        "colab": {}
      },
      "source": [
        ""
      ],
      "execution_count": 0,
      "outputs": []
    },
    {
      "cell_type": "markdown",
      "metadata": {
        "id": "GR7TcEkUg6w-",
        "colab_type": "text"
      },
      "source": [
        "# Week 3\n",
        "## Plane Sweep"
      ]
    },
    {
      "cell_type": "code",
      "metadata": {
        "id": "IQLC34srg95B",
        "colab_type": "code",
        "colab": {}
      },
      "source": [
        "def LineIntersection(l1 : Line, l2 : Line) -> Point {\n",
        "  return None;\n",
        "}"
      ],
      "execution_count": 0,
      "outputs": []
    },
    {
      "cell_type": "code",
      "metadata": {
        "id": "VRHCz9Ohic9N",
        "colab_type": "code",
        "colab": {}
      },
      "source": [
        "class TestNotebook(unittest.TestCase):\n",
        "\n",
        "  def test_intersects(self):\n",
        "    self.AssertEqual(LineIntersection(Line(Point(0,0), Point(0,1)), Line(Point(0,2), Point(0,3)), None)\n",
        "\n",
        "unittest.main(argv=[''], verbosity=2, exit=False)"
      ],
      "execution_count": 0,
      "outputs": []
    }
  ]
}